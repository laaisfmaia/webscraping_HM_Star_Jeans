{
 "cells": [
  {
   "cell_type": "markdown",
   "id": "d9aad7a6",
   "metadata": {},
   "source": [
    "**0.0 Imports**"
   ]
  },
  {
   "cell_type": "code",
   "execution_count": 1,
   "id": "77aa9070",
   "metadata": {},
   "outputs": [],
   "source": [
    "import pandas as pd\n",
    "from sqlalchemy import create_engine\n",
    "import numpy as np"
   ]
  },
  {
   "cell_type": "markdown",
   "id": "83e28c67",
   "metadata": {},
   "source": [
    "**0.1 Data Colletion**"
   ]
  },
  {
   "cell_type": "code",
   "execution_count": 2,
   "id": "e0dcf09c",
   "metadata": {},
   "outputs": [],
   "source": [
    "#criando a conexão com o banco\n",
    "conn = create_engine( 'sqlite:///database_hm.sqlite', echo=False )"
   ]
  },
  {
   "cell_type": "code",
   "execution_count": 3,
   "id": "b27ac6ff",
   "metadata": {},
   "outputs": [
    {
     "data": {
      "text/html": [
       "<div>\n",
       "<style scoped>\n",
       "    .dataframe tbody tr th:only-of-type {\n",
       "        vertical-align: middle;\n",
       "    }\n",
       "\n",
       "    .dataframe tbody tr th {\n",
       "        vertical-align: top;\n",
       "    }\n",
       "\n",
       "    .dataframe thead th {\n",
       "        text-align: right;\n",
       "    }\n",
       "</style>\n",
       "<table border=\"1\" class=\"dataframe\">\n",
       "  <thead>\n",
       "    <tr style=\"text-align: right;\">\n",
       "      <th></th>\n",
       "      <th>product_id</th>\n",
       "      <th>style_id</th>\n",
       "      <th>color_id</th>\n",
       "      <th>product_name</th>\n",
       "      <th>color_name</th>\n",
       "      <th>fit</th>\n",
       "      <th>product_price</th>\n",
       "      <th>cotton</th>\n",
       "      <th>polyester</th>\n",
       "      <th>spandex</th>\n",
       "      <th>scrapy_datetime</th>\n",
       "    </tr>\n",
       "  </thead>\n",
       "  <tbody>\n",
       "    <tr>\n",
       "      <th>0</th>\n",
       "      <td>1024256002</td>\n",
       "      <td>1024256</td>\n",
       "      <td>002</td>\n",
       "      <td>slimjeans</td>\n",
       "      <td>light_denim_blue</td>\n",
       "      <td>slim_fit</td>\n",
       "      <td>19.99</td>\n",
       "      <td>0.99</td>\n",
       "      <td>0.65</td>\n",
       "      <td>0.01</td>\n",
       "      <td>2022-09-14 10:03:28</td>\n",
       "    </tr>\n",
       "    <tr>\n",
       "      <th>1</th>\n",
       "      <td>1024256003</td>\n",
       "      <td>1024256</td>\n",
       "      <td>003</td>\n",
       "      <td>slimjeans</td>\n",
       "      <td>light_denim_blue</td>\n",
       "      <td>slim_fit</td>\n",
       "      <td>19.99</td>\n",
       "      <td>0.99</td>\n",
       "      <td>0.65</td>\n",
       "      <td>0.01</td>\n",
       "      <td>2022-09-14 10:03:28</td>\n",
       "    </tr>\n",
       "    <tr>\n",
       "      <th>2</th>\n",
       "      <td>1024256004</td>\n",
       "      <td>1024256</td>\n",
       "      <td>004</td>\n",
       "      <td>slimjeans</td>\n",
       "      <td>denim_blue</td>\n",
       "      <td>slim_fit</td>\n",
       "      <td>19.99</td>\n",
       "      <td>0.99</td>\n",
       "      <td>0.65</td>\n",
       "      <td>0.01</td>\n",
       "      <td>2022-09-14 10:03:28</td>\n",
       "    </tr>\n",
       "    <tr>\n",
       "      <th>3</th>\n",
       "      <td>1024256005</td>\n",
       "      <td>1024256</td>\n",
       "      <td>005</td>\n",
       "      <td>slimjeans</td>\n",
       "      <td>dark_blue</td>\n",
       "      <td>slim_fit</td>\n",
       "      <td>19.99</td>\n",
       "      <td>0.99</td>\n",
       "      <td>0.65</td>\n",
       "      <td>0.01</td>\n",
       "      <td>2022-09-14 10:03:28</td>\n",
       "    </tr>\n",
       "    <tr>\n",
       "      <th>4</th>\n",
       "      <td>1024256006</td>\n",
       "      <td>1024256</td>\n",
       "      <td>006</td>\n",
       "      <td>slimjeans</td>\n",
       "      <td>dark_denim_blue</td>\n",
       "      <td>slim_fit</td>\n",
       "      <td>19.99</td>\n",
       "      <td>1.00</td>\n",
       "      <td>0.00</td>\n",
       "      <td>0.01</td>\n",
       "      <td>2022-09-14 10:03:28</td>\n",
       "    </tr>\n",
       "  </tbody>\n",
       "</table>\n",
       "</div>"
      ],
      "text/plain": [
       "   product_id style_id color_id product_name        color_name       fit  \\\n",
       "0  1024256002  1024256      002    slimjeans  light_denim_blue  slim_fit   \n",
       "1  1024256003  1024256      003    slimjeans  light_denim_blue  slim_fit   \n",
       "2  1024256004  1024256      004    slimjeans        denim_blue  slim_fit   \n",
       "3  1024256005  1024256      005    slimjeans         dark_blue  slim_fit   \n",
       "4  1024256006  1024256      006    slimjeans   dark_denim_blue  slim_fit   \n",
       "\n",
       "   product_price  cotton  polyester  spandex      scrapy_datetime  \n",
       "0          19.99    0.99       0.65     0.01  2022-09-14 10:03:28  \n",
       "1          19.99    0.99       0.65     0.01  2022-09-14 10:03:28  \n",
       "2          19.99    0.99       0.65     0.01  2022-09-14 10:03:28  \n",
       "3          19.99    0.99       0.65     0.01  2022-09-14 10:03:28  \n",
       "4          19.99    1.00       0.00     0.01  2022-09-14 10:03:28  "
      ]
     },
     "execution_count": 3,
     "metadata": {},
     "output_type": "execute_result"
    }
   ],
   "source": [
    "query = \"\"\"\n",
    "    SELECT * FROM vitrine\n",
    "\"\"\"\n",
    "\n",
    "df_raw = pd.read_sql_query(query, conn)\n",
    "df_raw.head()"
   ]
  },
  {
   "cell_type": "code",
   "execution_count": 4,
   "id": "c4aa63e6",
   "metadata": {},
   "outputs": [],
   "source": [
    "df_raw.to_csv(r'C:\\Users\\laais\\OneDrive\\Área de Trabalho\\dt_hm.csv')"
   ]
  },
  {
   "cell_type": "markdown",
   "id": "f55e994f",
   "metadata": {},
   "source": [
    "## Passo 01 - Descrição dos dados"
   ]
  },
  {
   "cell_type": "code",
   "execution_count": 10,
   "id": "673dbec1",
   "metadata": {},
   "outputs": [],
   "source": [
    "#criando uma copia do df\n",
    "df01 = df_raw.copy()"
   ]
  },
  {
   "cell_type": "markdown",
   "id": "fbfc26f5",
   "metadata": {},
   "source": [
    "- **1.1. Dimensão dos dados**"
   ]
  },
  {
   "cell_type": "code",
   "execution_count": 13,
   "id": "b1d25d33",
   "metadata": {},
   "outputs": [
    {
     "data": {
      "text/plain": [
       "(112, 11)"
      ]
     },
     "execution_count": 13,
     "metadata": {},
     "output_type": "execute_result"
    }
   ],
   "source": [
    "df01.shape"
   ]
  },
  {
   "cell_type": "code",
   "execution_count": 15,
   "id": "1f1ddd7f",
   "metadata": {},
   "outputs": [
    {
     "name": "stdout",
     "output_type": "stream",
     "text": [
      "N° de colunas: 112\n",
      "N° de linhas: 11\n"
     ]
    }
   ],
   "source": [
    "print('N° de colunas: {}'.format(df01.shape[0]))\n",
    "print('N° de linhas: {}'.format(df01.shape[1]))"
   ]
  },
  {
   "cell_type": "markdown",
   "id": "0a271407",
   "metadata": {},
   "source": [
    "- **1.2 Tipos dos dados**"
   ]
  },
  {
   "cell_type": "code",
   "execution_count": 19,
   "id": "8e7ccc7d",
   "metadata": {},
   "outputs": [
    {
     "data": {
      "text/plain": [
       "product_id          object\n",
       "style_id            object\n",
       "color_id            object\n",
       "product_name        object\n",
       "color_name          object\n",
       "fit                 object\n",
       "product_price      float64\n",
       "cotton             float64\n",
       "polyester          float64\n",
       "spandex            float64\n",
       "scrapy_datetime     object\n",
       "dtype: object"
      ]
     },
     "execution_count": 19,
     "metadata": {},
     "output_type": "execute_result"
    }
   ],
   "source": [
    "df01.dtypes"
   ]
  },
  {
   "cell_type": "code",
   "execution_count": 20,
   "id": "b85cc107",
   "metadata": {},
   "outputs": [],
   "source": [
    "#convertendo para o tipo data\n",
    "df01['scrapy_datetime'] = pd.to_datetime(df01['scrapy_datetime'])"
   ]
  },
  {
   "cell_type": "code",
   "execution_count": 21,
   "id": "5c741189",
   "metadata": {},
   "outputs": [
    {
     "data": {
      "text/plain": [
       "product_id                 object\n",
       "style_id                   object\n",
       "color_id                   object\n",
       "product_name               object\n",
       "color_name                 object\n",
       "fit                        object\n",
       "product_price             float64\n",
       "cotton                    float64\n",
       "polyester                 float64\n",
       "spandex                   float64\n",
       "scrapy_datetime    datetime64[ns]\n",
       "dtype: object"
      ]
     },
     "execution_count": 21,
     "metadata": {},
     "output_type": "execute_result"
    }
   ],
   "source": [
    "df01.dtypes"
   ]
  },
  {
   "cell_type": "markdown",
   "id": "820f0887",
   "metadata": {},
   "source": [
    "- **1.3 Identificação de dados faltantes**"
   ]
  },
  {
   "cell_type": "code",
   "execution_count": 23,
   "id": "f3d5d3f4",
   "metadata": {},
   "outputs": [
    {
     "data": {
      "text/plain": [
       "product_id         0\n",
       "style_id           0\n",
       "color_id           0\n",
       "product_name       0\n",
       "color_name         0\n",
       "fit                0\n",
       "product_price      0\n",
       "cotton             0\n",
       "polyester          0\n",
       "spandex            0\n",
       "scrapy_datetime    0\n",
       "dtype: int64"
      ]
     },
     "execution_count": 23,
     "metadata": {},
     "output_type": "execute_result"
    }
   ],
   "source": [
    "df01.isna().sum()"
   ]
  },
  {
   "cell_type": "markdown",
   "id": "f545dc8d",
   "metadata": {},
   "source": [
    "- **1.4 Substituição de dados faltantes**"
   ]
  },
  {
   "cell_type": "markdown",
   "id": "b2a43a28",
   "metadata": {},
   "source": [
    "- **1.5 Descrição dos dados**"
   ]
  },
  {
   "cell_type": "code",
   "execution_count": 27,
   "id": "fdc6e103",
   "metadata": {},
   "outputs": [
    {
     "data": {
      "text/html": [
       "<div>\n",
       "<style scoped>\n",
       "    .dataframe tbody tr th:only-of-type {\n",
       "        vertical-align: middle;\n",
       "    }\n",
       "\n",
       "    .dataframe tbody tr th {\n",
       "        vertical-align: top;\n",
       "    }\n",
       "\n",
       "    .dataframe thead th {\n",
       "        text-align: right;\n",
       "    }\n",
       "</style>\n",
       "<table border=\"1\" class=\"dataframe\">\n",
       "  <thead>\n",
       "    <tr style=\"text-align: right;\">\n",
       "      <th></th>\n",
       "      <th>product_price</th>\n",
       "      <th>cotton</th>\n",
       "      <th>polyester</th>\n",
       "      <th>spandex</th>\n",
       "    </tr>\n",
       "  </thead>\n",
       "  <tbody>\n",
       "    <tr>\n",
       "      <th>0</th>\n",
       "      <td>19.99</td>\n",
       "      <td>0.99</td>\n",
       "      <td>0.65</td>\n",
       "      <td>0.01</td>\n",
       "    </tr>\n",
       "    <tr>\n",
       "      <th>1</th>\n",
       "      <td>19.99</td>\n",
       "      <td>0.99</td>\n",
       "      <td>0.65</td>\n",
       "      <td>0.01</td>\n",
       "    </tr>\n",
       "    <tr>\n",
       "      <th>2</th>\n",
       "      <td>19.99</td>\n",
       "      <td>0.99</td>\n",
       "      <td>0.65</td>\n",
       "      <td>0.01</td>\n",
       "    </tr>\n",
       "    <tr>\n",
       "      <th>3</th>\n",
       "      <td>19.99</td>\n",
       "      <td>0.99</td>\n",
       "      <td>0.65</td>\n",
       "      <td>0.01</td>\n",
       "    </tr>\n",
       "    <tr>\n",
       "      <th>4</th>\n",
       "      <td>19.99</td>\n",
       "      <td>1.00</td>\n",
       "      <td>0.00</td>\n",
       "      <td>0.01</td>\n",
       "    </tr>\n",
       "    <tr>\n",
       "      <th>...</th>\n",
       "      <td>...</td>\n",
       "      <td>...</td>\n",
       "      <td>...</td>\n",
       "      <td>...</td>\n",
       "    </tr>\n",
       "    <tr>\n",
       "      <th>107</th>\n",
       "      <td>44.99</td>\n",
       "      <td>1.00</td>\n",
       "      <td>0.65</td>\n",
       "      <td>0.00</td>\n",
       "    </tr>\n",
       "    <tr>\n",
       "      <th>108</th>\n",
       "      <td>44.99</td>\n",
       "      <td>1.00</td>\n",
       "      <td>0.65</td>\n",
       "      <td>0.00</td>\n",
       "    </tr>\n",
       "    <tr>\n",
       "      <th>109</th>\n",
       "      <td>44.99</td>\n",
       "      <td>1.00</td>\n",
       "      <td>0.65</td>\n",
       "      <td>0.00</td>\n",
       "    </tr>\n",
       "    <tr>\n",
       "      <th>110</th>\n",
       "      <td>44.99</td>\n",
       "      <td>1.00</td>\n",
       "      <td>0.00</td>\n",
       "      <td>0.00</td>\n",
       "    </tr>\n",
       "    <tr>\n",
       "      <th>111</th>\n",
       "      <td>44.99</td>\n",
       "      <td>1.00</td>\n",
       "      <td>0.65</td>\n",
       "      <td>0.00</td>\n",
       "    </tr>\n",
       "  </tbody>\n",
       "</table>\n",
       "<p>112 rows × 4 columns</p>\n",
       "</div>"
      ],
      "text/plain": [
       "     product_price  cotton  polyester  spandex\n",
       "0            19.99    0.99       0.65     0.01\n",
       "1            19.99    0.99       0.65     0.01\n",
       "2            19.99    0.99       0.65     0.01\n",
       "3            19.99    0.99       0.65     0.01\n",
       "4            19.99    1.00       0.00     0.01\n",
       "..             ...     ...        ...      ...\n",
       "107          44.99    1.00       0.65     0.00\n",
       "108          44.99    1.00       0.65     0.00\n",
       "109          44.99    1.00       0.65     0.00\n",
       "110          44.99    1.00       0.00     0.00\n",
       "111          44.99    1.00       0.65     0.00\n",
       "\n",
       "[112 rows x 4 columns]"
      ]
     },
     "execution_count": 27,
     "metadata": {},
     "output_type": "execute_result"
    }
   ],
   "source": [
    "#selecionando as colunas de acordo com o tipo númerico\n",
    "num_atributos = df01.select_dtypes(include=['int64','float64'])\n",
    "num_atributos"
   ]
  },
  {
   "cell_type": "code",
   "execution_count": 28,
   "id": "6c7353fe",
   "metadata": {},
   "outputs": [
    {
     "data": {
      "text/html": [
       "<div>\n",
       "<style scoped>\n",
       "    .dataframe tbody tr th:only-of-type {\n",
       "        vertical-align: middle;\n",
       "    }\n",
       "\n",
       "    .dataframe tbody tr th {\n",
       "        vertical-align: top;\n",
       "    }\n",
       "\n",
       "    .dataframe thead th {\n",
       "        text-align: right;\n",
       "    }\n",
       "</style>\n",
       "<table border=\"1\" class=\"dataframe\">\n",
       "  <thead>\n",
       "    <tr style=\"text-align: right;\">\n",
       "      <th></th>\n",
       "      <th>product_id</th>\n",
       "      <th>style_id</th>\n",
       "      <th>color_id</th>\n",
       "      <th>product_name</th>\n",
       "      <th>color_name</th>\n",
       "      <th>fit</th>\n",
       "      <th>scrapy_datetime</th>\n",
       "    </tr>\n",
       "  </thead>\n",
       "  <tbody>\n",
       "    <tr>\n",
       "      <th>0</th>\n",
       "      <td>1024256002</td>\n",
       "      <td>1024256</td>\n",
       "      <td>002</td>\n",
       "      <td>slimjeans</td>\n",
       "      <td>light_denim_blue</td>\n",
       "      <td>slim_fit</td>\n",
       "      <td>2022-09-14 10:03:28</td>\n",
       "    </tr>\n",
       "    <tr>\n",
       "      <th>1</th>\n",
       "      <td>1024256003</td>\n",
       "      <td>1024256</td>\n",
       "      <td>003</td>\n",
       "      <td>slimjeans</td>\n",
       "      <td>light_denim_blue</td>\n",
       "      <td>slim_fit</td>\n",
       "      <td>2022-09-14 10:03:28</td>\n",
       "    </tr>\n",
       "    <tr>\n",
       "      <th>2</th>\n",
       "      <td>1024256004</td>\n",
       "      <td>1024256</td>\n",
       "      <td>004</td>\n",
       "      <td>slimjeans</td>\n",
       "      <td>denim_blue</td>\n",
       "      <td>slim_fit</td>\n",
       "      <td>2022-09-14 10:03:28</td>\n",
       "    </tr>\n",
       "    <tr>\n",
       "      <th>3</th>\n",
       "      <td>1024256005</td>\n",
       "      <td>1024256</td>\n",
       "      <td>005</td>\n",
       "      <td>slimjeans</td>\n",
       "      <td>dark_blue</td>\n",
       "      <td>slim_fit</td>\n",
       "      <td>2022-09-14 10:03:28</td>\n",
       "    </tr>\n",
       "    <tr>\n",
       "      <th>4</th>\n",
       "      <td>1024256006</td>\n",
       "      <td>1024256</td>\n",
       "      <td>006</td>\n",
       "      <td>slimjeans</td>\n",
       "      <td>dark_denim_blue</td>\n",
       "      <td>slim_fit</td>\n",
       "      <td>2022-09-14 10:03:28</td>\n",
       "    </tr>\n",
       "    <tr>\n",
       "      <th>...</th>\n",
       "      <td>...</td>\n",
       "      <td>...</td>\n",
       "      <td>...</td>\n",
       "      <td>...</td>\n",
       "      <td>...</td>\n",
       "      <td>...</td>\n",
       "      <td>...</td>\n",
       "    </tr>\n",
       "    <tr>\n",
       "      <th>107</th>\n",
       "      <td>0875105018</td>\n",
       "      <td>0875105</td>\n",
       "      <td>018</td>\n",
       "      <td>relaxedjeans</td>\n",
       "      <td>pale_denim_blue</td>\n",
       "      <td>relaxed_fit</td>\n",
       "      <td>2022-09-14 10:03:28</td>\n",
       "    </tr>\n",
       "    <tr>\n",
       "      <th>108</th>\n",
       "      <td>0875105023</td>\n",
       "      <td>0875105</td>\n",
       "      <td>023</td>\n",
       "      <td>relaxedjeans</td>\n",
       "      <td>black</td>\n",
       "      <td>relaxed_fit</td>\n",
       "      <td>2022-09-14 10:03:28</td>\n",
       "    </tr>\n",
       "    <tr>\n",
       "      <th>109</th>\n",
       "      <td>0875105024</td>\n",
       "      <td>0875105</td>\n",
       "      <td>024</td>\n",
       "      <td>relaxedjeans</td>\n",
       "      <td>light_denim_blue</td>\n",
       "      <td>relaxed_fit</td>\n",
       "      <td>2022-09-14 10:03:28</td>\n",
       "    </tr>\n",
       "    <tr>\n",
       "      <th>110</th>\n",
       "      <td>0875105026</td>\n",
       "      <td>0875105</td>\n",
       "      <td>026</td>\n",
       "      <td>relaxedjeans</td>\n",
       "      <td>light_gray</td>\n",
       "      <td>relaxed_fit</td>\n",
       "      <td>2022-09-14 10:03:28</td>\n",
       "    </tr>\n",
       "    <tr>\n",
       "      <th>111</th>\n",
       "      <td>0875105029</td>\n",
       "      <td>0875105</td>\n",
       "      <td>029</td>\n",
       "      <td>relaxedjeans</td>\n",
       "      <td>black</td>\n",
       "      <td>relaxed_fit</td>\n",
       "      <td>2022-09-14 10:03:28</td>\n",
       "    </tr>\n",
       "  </tbody>\n",
       "</table>\n",
       "<p>112 rows × 7 columns</p>\n",
       "</div>"
      ],
      "text/plain": [
       "     product_id style_id color_id  product_name        color_name  \\\n",
       "0    1024256002  1024256      002     slimjeans  light_denim_blue   \n",
       "1    1024256003  1024256      003     slimjeans  light_denim_blue   \n",
       "2    1024256004  1024256      004     slimjeans        denim_blue   \n",
       "3    1024256005  1024256      005     slimjeans         dark_blue   \n",
       "4    1024256006  1024256      006     slimjeans   dark_denim_blue   \n",
       "..          ...      ...      ...           ...               ...   \n",
       "107  0875105018  0875105      018  relaxedjeans   pale_denim_blue   \n",
       "108  0875105023  0875105      023  relaxedjeans             black   \n",
       "109  0875105024  0875105      024  relaxedjeans  light_denim_blue   \n",
       "110  0875105026  0875105      026  relaxedjeans        light_gray   \n",
       "111  0875105029  0875105      029  relaxedjeans             black   \n",
       "\n",
       "             fit     scrapy_datetime  \n",
       "0       slim_fit 2022-09-14 10:03:28  \n",
       "1       slim_fit 2022-09-14 10:03:28  \n",
       "2       slim_fit 2022-09-14 10:03:28  \n",
       "3       slim_fit 2022-09-14 10:03:28  \n",
       "4       slim_fit 2022-09-14 10:03:28  \n",
       "..           ...                 ...  \n",
       "107  relaxed_fit 2022-09-14 10:03:28  \n",
       "108  relaxed_fit 2022-09-14 10:03:28  \n",
       "109  relaxed_fit 2022-09-14 10:03:28  \n",
       "110  relaxed_fit 2022-09-14 10:03:28  \n",
       "111  relaxed_fit 2022-09-14 10:03:28  \n",
       "\n",
       "[112 rows x 7 columns]"
      ]
     },
     "execution_count": 28,
     "metadata": {},
     "output_type": "execute_result"
    }
   ],
   "source": [
    "#selecionando as colunas diferentes de númerico\n",
    "cat_atributos = df01.select_dtypes(exclude=['int64','float64'])\n",
    "cat_atributos"
   ]
  },
  {
   "cell_type": "markdown",
   "id": "c4bb36a3",
   "metadata": {},
   "source": [
    "- 1.5.1 Dados Númericos\n"
   ]
  },
  {
   "cell_type": "code",
   "execution_count": 56,
   "id": "e756eb6f",
   "metadata": {},
   "outputs": [],
   "source": [
    "#tendencia central -> média e mediana\n",
    "t1 = pd.DataFrame(num_atributos.apply(np.mean)).T\n",
    "t2 = pd.DataFrame(num_atributos.apply(np.median)).T"
   ]
  },
  {
   "cell_type": "code",
   "execution_count": 55,
   "id": "d155a0f6",
   "metadata": {},
   "outputs": [],
   "source": [
    "#Dispersão: desvio padrão, max, mín, range, skew (simetria da distruibuição) e kurtosis (calda longa do dataset)\n",
    "d1 = pd.DataFrame(num_atributos.apply(np.std)).T\n",
    "d2 = pd.DataFrame(num_atributos.apply(np.min)).T\n",
    "d3 = pd.DataFrame(num_atributos.apply(np.max)).T \n",
    "#calculo do range, faz a diferença entre o max e o min de cada coluna\n",
    "d4 = pd.DataFrame(num_atributos.apply( lambda x: x.max() - x.min())).T\n",
    "d5 = pd.DataFrame(num_atributos.apply( lambda x: x.skew())).T\n",
    "d6 = pd.DataFrame(num_atributos.apply( lambda x: x.kurtosis())).T"
   ]
  },
  {
   "cell_type": "code",
   "execution_count": 58,
   "id": "01263efe",
   "metadata": {},
   "outputs": [
    {
     "data": {
      "text/html": [
       "<div>\n",
       "<style scoped>\n",
       "    .dataframe tbody tr th:only-of-type {\n",
       "        vertical-align: middle;\n",
       "    }\n",
       "\n",
       "    .dataframe tbody tr th {\n",
       "        vertical-align: top;\n",
       "    }\n",
       "\n",
       "    .dataframe thead th {\n",
       "        text-align: right;\n",
       "    }\n",
       "</style>\n",
       "<table border=\"1\" class=\"dataframe\">\n",
       "  <thead>\n",
       "    <tr style=\"text-align: right;\">\n",
       "      <th></th>\n",
       "      <th>index</th>\n",
       "      <th>0</th>\n",
       "      <th>0</th>\n",
       "      <th>0</th>\n",
       "      <th>0</th>\n",
       "      <th>0</th>\n",
       "      <th>0</th>\n",
       "      <th>0</th>\n",
       "      <th>0</th>\n",
       "    </tr>\n",
       "  </thead>\n",
       "  <tbody>\n",
       "    <tr>\n",
       "      <th>0</th>\n",
       "      <td>product_price</td>\n",
       "      <td>7.99</td>\n",
       "      <td>49.99</td>\n",
       "      <td>42.00</td>\n",
       "      <td>31.240000</td>\n",
       "      <td>29.99</td>\n",
       "      <td>10.831090</td>\n",
       "      <td>-0.116499</td>\n",
       "      <td>-1.045786</td>\n",
       "    </tr>\n",
       "    <tr>\n",
       "      <th>1</th>\n",
       "      <td>cotton</td>\n",
       "      <td>0.77</td>\n",
       "      <td>1.00</td>\n",
       "      <td>0.23</td>\n",
       "      <td>0.963393</td>\n",
       "      <td>0.99</td>\n",
       "      <td>0.071721</td>\n",
       "      <td>-2.050909</td>\n",
       "      <td>2.517285</td>\n",
       "    </tr>\n",
       "    <tr>\n",
       "      <th>2</th>\n",
       "      <td>polyester</td>\n",
       "      <td>0.00</td>\n",
       "      <td>1.00</td>\n",
       "      <td>1.00</td>\n",
       "      <td>0.350625</td>\n",
       "      <td>0.21</td>\n",
       "      <td>0.331897</td>\n",
       "      <td>0.166264</td>\n",
       "      <td>-1.605939</td>\n",
       "    </tr>\n",
       "    <tr>\n",
       "      <th>3</th>\n",
       "      <td>spandex</td>\n",
       "      <td>0.00</td>\n",
       "      <td>0.02</td>\n",
       "      <td>0.02</td>\n",
       "      <td>0.007768</td>\n",
       "      <td>0.01</td>\n",
       "      <td>0.007405</td>\n",
       "      <td>0.387210</td>\n",
       "      <td>-1.098966</td>\n",
       "    </tr>\n",
       "  </tbody>\n",
       "</table>\n",
       "</div>"
      ],
      "text/plain": [
       "           index     0      0      0          0      0          0         0  \\\n",
       "0  product_price  7.99  49.99  42.00  31.240000  29.99  10.831090 -0.116499   \n",
       "1         cotton  0.77   1.00   0.23   0.963393   0.99   0.071721 -2.050909   \n",
       "2      polyester  0.00   1.00   1.00   0.350625   0.21   0.331897  0.166264   \n",
       "3        spandex  0.00   0.02   0.02   0.007768   0.01   0.007405  0.387210   \n",
       "\n",
       "          0  \n",
       "0 -1.045786  \n",
       "1  2.517285  \n",
       "2 -1.605939  \n",
       "3 -1.098966  "
      ]
     },
     "execution_count": 58,
     "metadata": {},
     "output_type": "execute_result"
    }
   ],
   "source": [
    "#concat\n",
    "m1 = pd.concat([d2,d3,d4,t1,t2,d1,d5,d6]).T.reset_index()\n",
    "m1"
   ]
  },
  {
   "cell_type": "code",
   "execution_count": 60,
   "id": "c253d7f3",
   "metadata": {},
   "outputs": [
    {
     "data": {
      "text/html": [
       "<div>\n",
       "<style scoped>\n",
       "    .dataframe tbody tr th:only-of-type {\n",
       "        vertical-align: middle;\n",
       "    }\n",
       "\n",
       "    .dataframe tbody tr th {\n",
       "        vertical-align: top;\n",
       "    }\n",
       "\n",
       "    .dataframe thead th {\n",
       "        text-align: right;\n",
       "    }\n",
       "</style>\n",
       "<table border=\"1\" class=\"dataframe\">\n",
       "  <thead>\n",
       "    <tr style=\"text-align: right;\">\n",
       "      <th></th>\n",
       "      <th>attributes</th>\n",
       "      <th>min</th>\n",
       "      <th>max</th>\n",
       "      <th>range</th>\n",
       "      <th>mean</th>\n",
       "      <th>median</th>\n",
       "      <th>std</th>\n",
       "      <th>skew</th>\n",
       "      <th>kurtosis</th>\n",
       "    </tr>\n",
       "  </thead>\n",
       "  <tbody>\n",
       "    <tr>\n",
       "      <th>0</th>\n",
       "      <td>product_price</td>\n",
       "      <td>7.99</td>\n",
       "      <td>49.99</td>\n",
       "      <td>42.00</td>\n",
       "      <td>31.240000</td>\n",
       "      <td>29.99</td>\n",
       "      <td>10.831090</td>\n",
       "      <td>-0.116499</td>\n",
       "      <td>-1.045786</td>\n",
       "    </tr>\n",
       "    <tr>\n",
       "      <th>1</th>\n",
       "      <td>cotton</td>\n",
       "      <td>0.77</td>\n",
       "      <td>1.00</td>\n",
       "      <td>0.23</td>\n",
       "      <td>0.963393</td>\n",
       "      <td>0.99</td>\n",
       "      <td>0.071721</td>\n",
       "      <td>-2.050909</td>\n",
       "      <td>2.517285</td>\n",
       "    </tr>\n",
       "    <tr>\n",
       "      <th>2</th>\n",
       "      <td>polyester</td>\n",
       "      <td>0.00</td>\n",
       "      <td>1.00</td>\n",
       "      <td>1.00</td>\n",
       "      <td>0.350625</td>\n",
       "      <td>0.21</td>\n",
       "      <td>0.331897</td>\n",
       "      <td>0.166264</td>\n",
       "      <td>-1.605939</td>\n",
       "    </tr>\n",
       "    <tr>\n",
       "      <th>3</th>\n",
       "      <td>spandex</td>\n",
       "      <td>0.00</td>\n",
       "      <td>0.02</td>\n",
       "      <td>0.02</td>\n",
       "      <td>0.007768</td>\n",
       "      <td>0.01</td>\n",
       "      <td>0.007405</td>\n",
       "      <td>0.387210</td>\n",
       "      <td>-1.098966</td>\n",
       "    </tr>\n",
       "  </tbody>\n",
       "</table>\n",
       "</div>"
      ],
      "text/plain": [
       "      attributes   min    max  range       mean  median        std      skew  \\\n",
       "0  product_price  7.99  49.99  42.00  31.240000   29.99  10.831090 -0.116499   \n",
       "1         cotton  0.77   1.00   0.23   0.963393    0.99   0.071721 -2.050909   \n",
       "2      polyester  0.00   1.00   1.00   0.350625    0.21   0.331897  0.166264   \n",
       "3        spandex  0.00   0.02   0.02   0.007768    0.01   0.007405  0.387210   \n",
       "\n",
       "   kurtosis  \n",
       "0 -1.045786  \n",
       "1  2.517285  \n",
       "2 -1.605939  \n",
       "3 -1.098966  "
      ]
     },
     "execution_count": 60,
     "metadata": {},
     "output_type": "execute_result"
    }
   ],
   "source": [
    "m1.columns = ['attributes','min','max','range','mean','median','std','skew','kurtosis']\n",
    "m1"
   ]
  },
  {
   "cell_type": "markdown",
   "id": "d5ea62e1",
   "metadata": {},
   "source": [
    "- 1.5.2 Dados Categóricos"
   ]
  }
 ],
 "metadata": {
  "kernelspec": {
   "display_name": "Python 3 (ipykernel)",
   "language": "python",
   "name": "python3"
  },
  "language_info": {
   "codemirror_mode": {
    "name": "ipython",
    "version": 3
   },
   "file_extension": ".py",
   "mimetype": "text/x-python",
   "name": "python",
   "nbconvert_exporter": "python",
   "pygments_lexer": "ipython3",
   "version": "3.9.7"
  }
 },
 "nbformat": 4,
 "nbformat_minor": 5
}

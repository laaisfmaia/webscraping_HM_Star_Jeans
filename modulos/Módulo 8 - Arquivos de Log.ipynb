{
 "cells": [
  {
   "cell_type": "code",
   "execution_count": 1,
   "id": "c6aff3ee",
   "metadata": {},
   "outputs": [],
   "source": [
    "import os\n",
    "import logging"
   ]
  },
  {
   "cell_type": "code",
   "execution_count": 2,
   "id": "bbe15f4f",
   "metadata": {},
   "outputs": [],
   "source": [
    "#criando a pasta para salvar os logs\n",
    "# se ela não existir vai criar, assim não precisa criar manualmente\n",
    "if not os.path.exists('Logs'):\n",
    "    os.makedirs('Logs')\n",
    "\n",
    "#configurações do loggig\n",
    "#level -> nivel de severidade que você quer logar no arquivo\n",
    "# ou seja, qual o logging mínimo que você quer avaliar \n",
    "\n",
    "#filename -> caminho do arquivo que vai guardar os loggings\n",
    "\n",
    "# no format você personaliza como a mensagem quer ficar\n",
    "# datefmt -> personaliza como a data vai ficar\n",
    "\n",
    "logging.basicConfig(level = logging.DEBUG,\n",
    "                    filename = 'Logs/webscraping_hm.txt',\n",
    "                    format= '%(asctime)s - %(levelname)s - %(name)s - %(message)s',\n",
    "                    datefmt = '%Y-%m-%d %H:%M:%S')\n",
    "\n",
    "# logger é o agente que vai fazer o logging, se deixar padrão vai aparecer root, mas colocar o nome da aplicação\n",
    "logger = logging.getLogger('webscraping_hm')\n",
    "\n",
    "logger.debug('O valor da variavel x de %s',10)\n",
    "logger.info('Esse eh a interação de numero %s',45)\n",
    "logger.warning('Esse ponto do codigo deve ser melhorado')"
   ]
  },
  {
   "cell_type": "code",
   "execution_count": null,
   "id": "d3dd3475",
   "metadata": {},
   "outputs": [],
   "source": [
    "logging.debug('O valor da variavel x de %s',10)\n",
    "logging.info('Esse eh a interação de numero %s',45)\n",
    "logging.warning('Esse ponto do codigo deve ser melhorado')"
   ]
  },
  {
   "cell_type": "code",
   "execution_count": null,
   "id": "f8c20d5e",
   "metadata": {},
   "outputs": [],
   "source": []
  }
 ],
 "metadata": {
  "kernelspec": {
   "display_name": "Python 3 (ipykernel)",
   "language": "python",
   "name": "python3"
  },
  "language_info": {
   "codemirror_mode": {
    "name": "ipython",
    "version": 3
   },
   "file_extension": ".py",
   "mimetype": "text/x-python",
   "name": "python",
   "nbconvert_exporter": "python",
   "pygments_lexer": "ipython3",
   "version": "3.9.7"
  }
 },
 "nbformat": 4,
 "nbformat_minor": 5
}
